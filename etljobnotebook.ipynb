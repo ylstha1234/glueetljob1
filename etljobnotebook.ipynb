{
	"metadata": {
		"kernelspec": {
			"name": "glue_pyspark",
			"display_name": "Glue PySpark",
			"language": "python"
		},
		"language_info": {
			"name": "Python_Glue_Session",
			"mimetype": "text/x-python",
			"codemirror_mode": {
				"name": "python",
				"version": 3
			},
			"pygments_lexer": "python3",
			"file_extension": ".py"
		}
	},
	"nbformat_minor": 4,
	"nbformat": 4,
	"cells": [
		{
			"cell_type": "code",
			"source": "# Setting up and starting the interactive session\n%idle_timeout 2880\n%glue_version 4.0\n%worker_type G.1X\n%number_of_workers 5\n\nimport sys\nfrom awsglue.transforms import *\nfrom awsglue.utils import getResolvedOptions\nfrom pyspark.context import SparkContext\nfrom awsglue.context import GlueContext\nfrom awsglue.job import Job\nfrom awsglue.dynamicframe import DynamicFrame\n \nsc = SparkContext.getOrCreate()\nglueContext = GlueContext(sc)\nspark = glueContext.spark_session\njob = Job(glueContext)",
			"metadata": {
				"trusted": true,
				"editable": true
			},
			"execution_count": 1,
			"outputs": [
				{
					"name": "stdout",
					"text": "Welcome to the Glue Interactive Sessions Kernel\nFor more information on available magic commands, please type %help in any new cell.\n\nPlease view our Getting Started page to access the most up-to-date information on the Interactive Sessions kernel: https://docs.aws.amazon.com/glue/latest/dg/interactive-sessions.html\nInstalled kernel version: 1.0.5 \nCurrent idle_timeout is None minutes.\nidle_timeout has been set to 2880 minutes.\nSetting Glue version to: 4.0\nPrevious worker type: None\nSetting new worker type to: G.1X\nPrevious number of workers: None\nSetting new number of workers to: 5\nTrying to create a Glue session for the kernel.\nSession Type: glueetl\nWorker Type: G.1X\nNumber of Workers: 5\nIdle Timeout: 2880\nSession ID: 6e2ccdf6-b73f-40f8-adfa-4425fd81383b\nApplying the following default arguments:\n--glue_kernel_version 1.0.5\n--enable-glue-datacatalog true\nWaiting for session 6e2ccdf6-b73f-40f8-adfa-4425fd81383b to get into ready status...\nSession 6e2ccdf6-b73f-40f8-adfa-4425fd81383b has been created.\n\n",
					"output_type": "stream"
				}
			]
		},
		{
			"cell_type": "code",
			"source": "# Reading from the customers table in the glue data catalog using a dynamic frame\ndynamicFrameCustomers = glueContext.create_dynamic_frame.from_catalog(database = \"mygludatabse\", table_name = \"customers\")\n\n# Showing the top 10 rows from the dynamic dataframe\ndynamicFrameCustomers.show(10)\n\n# Since, the above python code will show only top nine records as Customerid, Firstname, Lastname and Fullname as first row. \n# So, by applying mapping to rename the columns for running the upcoming codes as Customerid, Firstname, Lastname and Fullname as headers.\nmapped_dynamic_frame = dynamicFrameCustomers.apply_mapping([\n    ('col0', 'string', 'customerid', 'string'),\n    ('col1', 'string', 'firstname', 'string'),\n    ('col2', 'string', 'lastname', 'string'),\n    ('col3', 'string', 'fullname', 'string')\n])\n\n# Converting the DynamicFrame to an iterable of records\nrecords = mapped_dynamic_frame.toDF().collect()\n\n# Shifting the rows (make the second row the first row)\nheader = records.pop(0)\n\n# Creating a new DynamicFrame from the remaining records\nnewdynamicFrameCustomers = DynamicFrame.fromDF(spark.createDataFrame(records, schema=header), glueContext, \"newdynamicFrameCustomers\")\n\n# Showing the DataFrame with the new column names to verify\nnewdynamicFrameCustomers.show(10)",
			"metadata": {
				"trusted": true,
				"tags": []
			},
			"execution_count": 2,
			"outputs": [
				{
					"name": "stdout",
					"text": "{\"col0\": \"CustomerID\", \"col1\": \"Firstname\", \"col2\": \"Lastname\", \"col3\": \"Fullname\"}\n{\"col0\": \"293\", \"col1\": \"Catherine\", \"col2\": \"Abel\", \"col3\": \"Catherine Abel\"}\n{\"col0\": \"295\", \"col1\": \"Kim\", \"col2\": \"Abercrombie\", \"col3\": \"Kim Abercrombie\"}\n{\"col0\": \"297\", \"col1\": \"Humberto\", \"col2\": \"Acevedo\", \"col3\": \"Humberto Acevedo\"}\n{\"col0\": \"291\", \"col1\": \"Gustavo\", \"col2\": \"Achong\", \"col3\": \"Gustavo Achong\"}\n{\"col0\": \"299\", \"col1\": \"Pilar\", \"col2\": \"Ackerman\", \"col3\": \"Pilar Ackerman\"}\n{\"col0\": \"305\", \"col1\": \"Carla\", \"col2\": \"Adams\", \"col3\": \"Carla Adams\"}\n{\"col0\": \"301\", \"col1\": \"Frances\", \"col2\": \"Adams\", \"col3\": \"Frances Adams\"}\n{\"col0\": \"307\", \"col1\": \"Jay\", \"col2\": \"Adams\", \"col3\": \"Jay Adams\"}\n{\"col0\": \"309\", \"col1\": \"Ronald\", \"col2\": \"Adina\", \"col3\": \"Ronald Adina\"}\n{\"CustomerID\": \"293\", \"Firstname\": \"Catherine\", \"Lastname\": \"Abel\", \"Fullname\": \"Catherine Abel\"}\n{\"CustomerID\": \"295\", \"Firstname\": \"Kim\", \"Lastname\": \"Abercrombie\", \"Fullname\": \"Kim Abercrombie\"}\n{\"CustomerID\": \"297\", \"Firstname\": \"Humberto\", \"Lastname\": \"Acevedo\", \"Fullname\": \"Humberto Acevedo\"}\n{\"CustomerID\": \"291\", \"Firstname\": \"Gustavo\", \"Lastname\": \"Achong\", \"Fullname\": \"Gustavo Achong\"}\n{\"CustomerID\": \"299\", \"Firstname\": \"Pilar\", \"Lastname\": \"Ackerman\", \"Fullname\": \"Pilar Ackerman\"}\n{\"CustomerID\": \"305\", \"Firstname\": \"Carla\", \"Lastname\": \"Adams\", \"Fullname\": \"Carla Adams\"}\n{\"CustomerID\": \"301\", \"Firstname\": \"Frances\", \"Lastname\": \"Adams\", \"Fullname\": \"Frances Adams\"}\n{\"CustomerID\": \"307\", \"Firstname\": \"Jay\", \"Lastname\": \"Adams\", \"Fullname\": \"Jay Adams\"}\n{\"CustomerID\": \"309\", \"Firstname\": \"Ronald\", \"Lastname\": \"Adina\", \"Fullname\": \"Ronald Adina\"}\n{\"CustomerID\": \"311\", \"Firstname\": \"Samuel\", \"Lastname\": \"Agcaoili\", \"Fullname\": \"Samuel Agcaoili\"}\n/opt/amazon/spark/python/lib/pyspark.zip/pyspark/sql/dataframe.py:127: UserWarning: DataFrame constructor is internal. Do not directly use it.\n",
					"output_type": "stream"
				}
			]
		},
		{
			"cell_type": "code",
			"source": "# Checking types in dynamic frame\nnewdynamicFrameCustomers.printSchema()",
			"metadata": {
				"trusted": true,
				"tags": []
			},
			"execution_count": 3,
			"outputs": [
				{
					"name": "stdout",
					"text": "root\n|-- CustomerID: string\n|-- Firstname: string\n|-- Lastname: string\n|-- Fullname: string\n",
					"output_type": "stream"
				}
			]
		},
		{
			"cell_type": "code",
			"source": "# Counting The Number of Rows in a Dynamic Dataframe\nnewdynamicFrameCustomers.count()",
			"metadata": {
				"trusted": true,
				"tags": []
			},
			"execution_count": 4,
			"outputs": [
				{
					"name": "stdout",
					"text": "636\n",
					"output_type": "stream"
				}
			]
		},
		{
			"cell_type": "code",
			"source": "# Selecting certain fields from a Dynamic DataFrame\ndyfCustomerSelectFields = newdynamicFrameCustomers.select_fields([\"CustomerID\", \"Fullname\"])\n# Showing top 10\ndyfCustomerSelectFields.show(10)",
			"metadata": {
				"trusted": true,
				"tags": []
			},
			"execution_count": 6,
			"outputs": [
				{
					"name": "stdout",
					"text": "{\"CustomerID\": \"293\", \"Fullname\": \"Catherine Abel\"}\n{\"CustomerID\": \"295\", \"Fullname\": \"Kim Abercrombie\"}\n{\"CustomerID\": \"297\", \"Fullname\": \"Humberto Acevedo\"}\n{\"CustomerID\": \"291\", \"Fullname\": \"Gustavo Achong\"}\n{\"CustomerID\": \"299\", \"Fullname\": \"Pilar Ackerman\"}\n{\"CustomerID\": \"305\", \"Fullname\": \"Carla Adams\"}\n{\"CustomerID\": \"301\", \"Fullname\": \"Frances Adams\"}\n{\"CustomerID\": \"307\", \"Fullname\": \"Jay Adams\"}\n{\"CustomerID\": \"309\", \"Fullname\": \"Ronald Adina\"}\n{\"CustomerID\": \"311\", \"Fullname\": \"Samuel Agcaoili\"}\n",
					"output_type": "stream"
				}
			]
		},
		{
			"cell_type": "code",
			"source": "# Dropping Fields of Dynamic Frame\ndyfCustomerDropFields = newdynamicFrameCustomers.drop_fields([\"Firstname\",\"Lastname\"])\n# Showing Top 10 rows of dyfCustomerDropFields Dynamic Frame\ndyfCustomerDropFields.show(10)",
			"metadata": {
				"trusted": true,
				"tags": []
			},
			"execution_count": 7,
			"outputs": [
				{
					"name": "stdout",
					"text": "{\"CustomerID\": \"293\", \"Fullname\": \"Catherine Abel\"}\n{\"CustomerID\": \"295\", \"Fullname\": \"Kim Abercrombie\"}\n{\"CustomerID\": \"297\", \"Fullname\": \"Humberto Acevedo\"}\n{\"CustomerID\": \"291\", \"Fullname\": \"Gustavo Achong\"}\n{\"CustomerID\": \"299\", \"Fullname\": \"Pilar Ackerman\"}\n{\"CustomerID\": \"305\", \"Fullname\": \"Carla Adams\"}\n{\"CustomerID\": \"301\", \"Fullname\": \"Frances Adams\"}\n{\"CustomerID\": \"307\", \"Fullname\": \"Jay Adams\"}\n{\"CustomerID\": \"309\", \"Fullname\": \"Ronald Adina\"}\n{\"CustomerID\": \"311\", \"Fullname\": \"Samuel Agcaoili\"}\n",
					"output_type": "stream"
				}
			]
		},
		{
			"cell_type": "code",
			"source": "# Mapping array for column rename fullname -> name\nmapping=[(\"Customerid\", \"string\", \"Customerid\",\"string\"),(\"Fullname\", \"string\", \"Name\", \"string\")]\n# Applying the mapping to rename fullname -> name\ndfyMapping = ApplyMapping.apply(frame = dyfCustomerDropFields, mappings = mapping, transformation_ctx = \"applymapping1\")\n\n# Showing the new dynamic frame with name column\ndfyMapping.show(10)",
			"metadata": {
				"trusted": true,
				"tags": []
			},
			"execution_count": 8,
			"outputs": [
				{
					"name": "stdout",
					"text": "{\"Customerid\": \"293\", \"Name\": \"Catherine Abel\"}\n{\"Customerid\": \"295\", \"Name\": \"Kim Abercrombie\"}\n{\"Customerid\": \"297\", \"Name\": \"Humberto Acevedo\"}\n{\"Customerid\": \"291\", \"Name\": \"Gustavo Achong\"}\n{\"Customerid\": \"299\", \"Name\": \"Pilar Ackerman\"}\n{\"Customerid\": \"305\", \"Name\": \"Carla Adams\"}\n{\"Customerid\": \"301\", \"Name\": \"Frances Adams\"}\n{\"Customerid\": \"307\", \"Name\": \"Jay Adams\"}\n{\"Customerid\": \"309\", \"Name\": \"Ronald Adina\"}\n{\"Customerid\": \"311\", \"Name\": \"Samuel Agcaoili\"}\n",
					"output_type": "stream"
				}
			]
		},
		{
			"cell_type": "code",
			"source": "# Filtering dynamicFrameCustomers for customers who have the last name Adams\ndyfFilter= Filter.apply(frame = newdynamicFrameCustomers,\nf = lambda x: x[\"Lastname\"] in \"Adams\"\n)\n# Showing the top 10 customers from the filtered Dynamic frame\ndyfFilter.show(10)",
			"metadata": {
				"trusted": true,
				"tags": []
			},
			"execution_count": 9,
			"outputs": [
				{
					"name": "stdout",
					"text": "{\"Lastname\": \"Adams\", \"CustomerID\": \"305\", \"Firstname\": \"Carla\", \"Fullname\": \"Carla Adams\"}\n{\"Lastname\": \"Adams\", \"CustomerID\": \"301\", \"Firstname\": \"Frances\", \"Fullname\": \"Frances Adams\"}\n{\"Lastname\": \"Adams\", \"CustomerID\": \"307\", \"Firstname\": \"Jay\", \"Fullname\": \"Jay Adams\"}\n",
					"output_type": "stream"
				}
			]
		},
		{
			"cell_type": "code",
			"source": "# Reading from the customers table in the glue data catalog using a dynamic frame\ndynamicFrameOrders = glueContext.create_dynamic_frame.from_catalog(\ndatabase = \"mygludatabse\",\ntable_name = \"orders\"\n)\n# Applying mapping to rename the columns for orders\nmapped_dynamic_frame_orders = dynamicFrameOrders.apply_mapping([\n    ('col0', 'string', 'SalesOrderID', 'string'),\n    ('col1', 'string', 'SalesOrderDetailID', 'string'),\n    ('col2', 'string', 'OrderDate', 'string'),\n    ('col3', 'string', 'DueDate', 'string'),\n    ('col4', 'string', 'ShipDate', 'string'),\n    ('col5', 'string', 'EmployeeID', 'string'),\n    ('col6', 'string', 'CustomerID', 'string'),\n    ('col7', 'string', 'SubTotal', 'string'),\n    ('col8', 'string', 'TaxAmt', 'string'),\n    ('col9', 'string', 'Freight', 'string'),\n    ('col10', 'string', 'TotalDue', 'string'),\n    ('col11', 'string', 'ProductID', 'string'),\n    ('col12', 'string', 'OrderQty', 'string'),\n    ('col13', 'string', 'UnitPrice', 'string'),\n    ('col14', 'string', 'UnitPriceDiscount', 'string'),\n    ('col15', 'string', 'LineTotal', 'string')\n])\n\n# Converting the DynamicFrame to an iterable of records\nrecords = mapped_dynamic_frame_orders.toDF().collect()\n\n# Shifting the rows (make the second row the first row)\nheader = records.pop(0)\n\n# Creating a new DynamicFrame from the remaining records\nnewdynamicFrameOrders = DynamicFrame.fromDF(spark.createDataFrame(records, schema=header), glueContext, \"newdynamicFrameOrders\")\n\n# Showing the DataFrame with the new column names to verify\nnewdynamicFrameOrders.show(10)",
			"metadata": {
				"trusted": true,
				"tags": []
			},
			"execution_count": 10,
			"outputs": [
				{
					"name": "stdout",
					"text": "{\"SalesOrderID\": \"43659\", \"SalesOrderDetailID\": \"1\", \"OrderDate\": \"5/31/2011\", \"DueDate\": \"6/12/2011\", \"ShipDate\": \"6/7/2011\", \"EmployeeID\": \"279\", \"CustomerID\": \"1045\", \"SubTotal\": \"20565.6206\", \"TaxAmt\": \"1971.5149\", \"Freight\": \"616.0984\", \"TotalDue\": \"23153.2339\", \"ProductID\": \"776\", \"OrderQty\": \"1\", \"UnitPrice\": \"2024.994\", \"UnitPriceDiscount\": \"0\", \"LineTotal\": \"2024.994\"}\n{\"SalesOrderID\": \"43659\", \"SalesOrderDetailID\": \"2\", \"OrderDate\": \"5/31/2011\", \"DueDate\": \"6/12/2011\", \"ShipDate\": \"6/7/2011\", \"EmployeeID\": \"279\", \"CustomerID\": \"1045\", \"SubTotal\": \"20565.6206\", \"TaxAmt\": \"1971.5149\", \"Freight\": \"616.0984\", \"TotalDue\": \"23153.2339\", \"ProductID\": \"777\", \"OrderQty\": \"3\", \"UnitPrice\": \"2024.994\", \"UnitPriceDiscount\": \"0\", \"LineTotal\": \"6074.982\"}\n{\"SalesOrderID\": \"43659\", \"SalesOrderDetailID\": \"3\", \"OrderDate\": \"5/31/2011\", \"DueDate\": \"6/12/2011\", \"ShipDate\": \"6/7/2011\", \"EmployeeID\": \"279\", \"CustomerID\": \"1045\", \"SubTotal\": \"20565.6206\", \"TaxAmt\": \"1971.5149\", \"Freight\": \"616.0984\", \"TotalDue\": \"23153.2339\", \"ProductID\": \"778\", \"OrderQty\": \"1\", \"UnitPrice\": \"2024.994\", \"UnitPriceDiscount\": \"0\", \"LineTotal\": \"2024.994\"}\n{\"SalesOrderID\": \"43659\", \"SalesOrderDetailID\": \"4\", \"OrderDate\": \"5/31/2011\", \"DueDate\": \"6/12/2011\", \"ShipDate\": \"6/7/2011\", \"EmployeeID\": \"279\", \"CustomerID\": \"1045\", \"SubTotal\": \"20565.6206\", \"TaxAmt\": \"1971.5149\", \"Freight\": \"616.0984\", \"TotalDue\": \"23153.2339\", \"ProductID\": \"771\", \"OrderQty\": \"1\", \"UnitPrice\": \"2039.994\", \"UnitPriceDiscount\": \"0\", \"LineTotal\": \"2039.994\"}\n{\"SalesOrderID\": \"43659\", \"SalesOrderDetailID\": \"5\", \"OrderDate\": \"5/31/2011\", \"DueDate\": \"6/12/2011\", \"ShipDate\": \"6/7/2011\", \"EmployeeID\": \"279\", \"CustomerID\": \"1045\", \"SubTotal\": \"20565.6206\", \"TaxAmt\": \"1971.5149\", \"Freight\": \"616.0984\", \"TotalDue\": \"23153.2339\", \"ProductID\": \"772\", \"OrderQty\": \"1\", \"UnitPrice\": \"2039.994\", \"UnitPriceDiscount\": \"0\", \"LineTotal\": \"2039.994\"}\n{\"SalesOrderID\": \"43659\", \"SalesOrderDetailID\": \"6\", \"OrderDate\": \"5/31/2011\", \"DueDate\": \"6/12/2011\", \"ShipDate\": \"6/7/2011\", \"EmployeeID\": \"279\", \"CustomerID\": \"1045\", \"SubTotal\": \"20565.6206\", \"TaxAmt\": \"1971.5149\", \"Freight\": \"616.0984\", \"TotalDue\": \"23153.2339\", \"ProductID\": \"773\", \"OrderQty\": \"2\", \"UnitPrice\": \"2039.994\", \"UnitPriceDiscount\": \"0\", \"LineTotal\": \"4079.988\"}\n{\"SalesOrderID\": \"43659\", \"SalesOrderDetailID\": \"7\", \"OrderDate\": \"5/31/2011\", \"DueDate\": \"6/12/2011\", \"ShipDate\": \"6/7/2011\", \"EmployeeID\": \"279\", \"CustomerID\": \"1045\", \"SubTotal\": \"20565.6206\", \"TaxAmt\": \"1971.5149\", \"Freight\": \"616.0984\", \"TotalDue\": \"23153.2339\", \"ProductID\": \"774\", \"OrderQty\": \"1\", \"UnitPrice\": \"2039.994\", \"UnitPriceDiscount\": \"0\", \"LineTotal\": \"2039.994\"}\n{\"SalesOrderID\": \"43659\", \"SalesOrderDetailID\": \"8\", \"OrderDate\": \"5/31/2011\", \"DueDate\": \"6/12/2011\", \"ShipDate\": \"6/7/2011\", \"EmployeeID\": \"279\", \"CustomerID\": \"1045\", \"SubTotal\": \"20565.6206\", \"TaxAmt\": \"1971.5149\", \"Freight\": \"616.0984\", \"TotalDue\": \"23153.2339\", \"ProductID\": \"714\", \"OrderQty\": \"3\", \"UnitPrice\": \"28.8404\", \"UnitPriceDiscount\": \"0\", \"LineTotal\": \"86.5212\"}\n{\"SalesOrderID\": \"43659\", \"SalesOrderDetailID\": \"9\", \"OrderDate\": \"5/31/2011\", \"DueDate\": \"6/12/2011\", \"ShipDate\": \"6/7/2011\", \"EmployeeID\": \"279\", \"CustomerID\": \"1045\", \"SubTotal\": \"20565.6206\", \"TaxAmt\": \"1971.5149\", \"Freight\": \"616.0984\", \"TotalDue\": \"23153.2339\", \"ProductID\": \"716\", \"OrderQty\": \"1\", \"UnitPrice\": \"28.8404\", \"UnitPriceDiscount\": \"0\", \"LineTotal\": \"28.8404\"}\n{\"SalesOrderID\": \"43659\", \"SalesOrderDetailID\": \"10\", \"OrderDate\": \"5/31/2011\", \"DueDate\": \"6/12/2011\", \"ShipDate\": \"6/7/2011\", \"EmployeeID\": \"279\", \"CustomerID\": \"1045\", \"SubTotal\": \"20565.6206\", \"TaxAmt\": \"1971.5149\", \"Freight\": \"616.0984\", \"TotalDue\": \"23153.2339\", \"ProductID\": \"709\", \"OrderQty\": \"6\", \"UnitPrice\": \"5.7\", \"UnitPriceDiscount\": \"0\", \"LineTotal\": \"34.2\"}\n/opt/amazon/spark/python/lib/pyspark.zip/pyspark/sql/dataframe.py:127: UserWarning: DataFrame constructor is internal. Do not directly use it.\n  warnings.warn(\"DataFrame constructor is internal. Do not directly use it.\")\n",
					"output_type": "stream"
				}
			]
		},
		{
			"cell_type": "code",
			"source": "# Joining two dynamic frames on an equality join\ndyfjoin = newdynamicFrameCustomers.join([\"CustomerID\"],[\"CustomerID\"],newdynamicFrameOrders)\n# Showing top 10 rows for the joined dynamic\ndyfjoin.show(10)",
			"metadata": {
				"trusted": true,
				"tags": []
			},
			"execution_count": 11,
			"outputs": [
				{
					"name": "stdout",
					"text": "{\"DueDate\": \"12/13/2011\", \"Firstname\": \"Susan\", \"ProductID\": \"770\", \"SubTotal\": \"5488.8419\", \"CustomerID\": \"907\", \"Lastname\": \"French\", \"TaxAmt\": \"526.9288\", \"TotalDue\": \"6180.436\", \"Fullname\": \"Susan French\", \"LineTotal\": \"419.4589\", \"ShipDate\": \"12/8/2011\", \"EmployeeID\": \"278\", \"SalesOrderDetailID\": \"5331\", \"Freight\": \"164.6653\", \"UnitPriceDiscount\": \"0\", \".CustomerID\": \"907\", \"OrderDate\": \"12/1/2011\", \"UnitPrice\": \"419.4589\", \"OrderQty\": \"1\", \"SalesOrderID\": \"45058\"}\n{\"DueDate\": \"12/13/2011\", \"Firstname\": \"Susan\", \"ProductID\": \"760\", \"SubTotal\": \"5488.8419\", \"CustomerID\": \"907\", \"Lastname\": \"French\", \"TaxAmt\": \"526.9288\", \"TotalDue\": \"6180.436\", \"Fullname\": \"Susan French\", \"LineTotal\": \"419.4589\", \"ShipDate\": \"12/8/2011\", \"EmployeeID\": \"278\", \"SalesOrderDetailID\": \"5332\", \"Freight\": \"164.6653\", \"UnitPriceDiscount\": \"0\", \".CustomerID\": \"907\", \"OrderDate\": \"12/1/2011\", \"UnitPrice\": \"419.4589\", \"OrderQty\": \"1\", \"SalesOrderID\": \"45058\"}\n{\"DueDate\": \"12/13/2011\", \"Firstname\": \"Susan\", \"ProductID\": \"762\", \"SubTotal\": \"5488.8419\", \"CustomerID\": \"907\", \"Lastname\": \"French\", \"TaxAmt\": \"526.9288\", \"TotalDue\": \"6180.436\", \"Fullname\": \"Susan French\", \"LineTotal\": \"838.9178\", \"ShipDate\": \"12/8/2011\", \"EmployeeID\": \"278\", \"SalesOrderDetailID\": \"5333\", \"Freight\": \"164.6653\", \"UnitPriceDiscount\": \"0\", \".CustomerID\": \"907\", \"OrderDate\": \"12/1/2011\", \"UnitPrice\": \"419.4589\", \"OrderQty\": \"2\", \"SalesOrderID\": \"45058\"}\n{\"DueDate\": \"12/13/2011\", \"Firstname\": \"Susan\", \"ProductID\": \"765\", \"SubTotal\": \"5488.8419\", \"CustomerID\": \"907\", \"Lastname\": \"French\", \"TaxAmt\": \"526.9288\", \"TotalDue\": \"6180.436\", \"Fullname\": \"Susan French\", \"LineTotal\": \"838.9178\", \"ShipDate\": \"12/8/2011\", \"EmployeeID\": \"278\", \"SalesOrderDetailID\": \"5334\", \"Freight\": \"164.6653\", \"UnitPriceDiscount\": \"0\", \".CustomerID\": \"907\", \"OrderDate\": \"12/1/2011\", \"UnitPrice\": \"419.4589\", \"OrderQty\": \"2\", \"SalesOrderID\": \"45058\"}\n{\"DueDate\": \"12/13/2011\", \"Firstname\": \"Susan\", \"ProductID\": \"763\", \"SubTotal\": \"5488.8419\", \"CustomerID\": \"907\", \"Lastname\": \"French\", \"TaxAmt\": \"526.9288\", \"TotalDue\": \"6180.436\", \"Fullname\": \"Susan French\", \"LineTotal\": \"1677.8356\", \"ShipDate\": \"12/8/2011\", \"EmployeeID\": \"278\", \"SalesOrderDetailID\": \"5335\", \"Freight\": \"164.6653\", \"UnitPriceDiscount\": \"0\", \".CustomerID\": \"907\", \"OrderDate\": \"12/1/2011\", \"UnitPrice\": \"419.4589\", \"OrderQty\": \"4\", \"SalesOrderID\": \"45058\"}\n{\"DueDate\": \"12/13/2011\", \"Firstname\": \"Susan\", \"ProductID\": \"761\", \"SubTotal\": \"5488.8419\", \"CustomerID\": \"907\", \"Lastname\": \"French\", \"TaxAmt\": \"526.9288\", \"TotalDue\": \"6180.436\", \"Fullname\": \"Susan French\", \"LineTotal\": \"419.4589\", \"ShipDate\": \"12/8/2011\", \"EmployeeID\": \"278\", \"SalesOrderDetailID\": \"5336\", \"Freight\": \"164.6653\", \"UnitPriceDiscount\": \"0\", \".CustomerID\": \"907\", \"OrderDate\": \"12/1/2011\", \"UnitPrice\": \"419.4589\", \"OrderQty\": \"1\", \"SalesOrderID\": \"45058\"}\n{\"DueDate\": \"12/13/2011\", \"Firstname\": \"Susan\", \"ProductID\": \"758\", \"SubTotal\": \"5488.8419\", \"CustomerID\": \"907\", \"Lastname\": \"French\", \"TaxAmt\": \"526.9288\", \"TotalDue\": \"6180.436\", \"Fullname\": \"Susan French\", \"LineTotal\": \"874.794\", \"ShipDate\": \"12/8/2011\", \"EmployeeID\": \"278\", \"SalesOrderDetailID\": \"5337\", \"Freight\": \"164.6653\", \"UnitPriceDiscount\": \"0\", \".CustomerID\": \"907\", \"OrderDate\": \"12/1/2011\", \"UnitPrice\": \"874.794\", \"OrderQty\": \"1\", \"SalesOrderID\": \"45058\"}\n{\"DueDate\": \"3/12/2012\", \"Firstname\": \"Susan\", \"ProductID\": \"712\", \"SubTotal\": \"9867.9984\", \"CustomerID\": \"907\", \"Lastname\": \"French\", \"TaxAmt\": \"947.2795\", \"TotalDue\": \"11111.3027\", \"Fullname\": \"Susan French\", \"LineTotal\": \"5.1865\", \"ShipDate\": \"3/7/2012\", \"EmployeeID\": \"278\", \"SalesOrderDetailID\": \"7911\", \"Freight\": \"296.0248\", \"UnitPriceDiscount\": \"0\", \".CustomerID\": \"907\", \"OrderDate\": \"2/29/2012\", \"UnitPrice\": \"5.1865\", \"OrderQty\": \"1\", \"SalesOrderID\": \"45800\"}\n{\"DueDate\": \"3/12/2012\", \"Firstname\": \"Susan\", \"ProductID\": \"754\", \"SubTotal\": \"9867.9984\", \"CustomerID\": \"907\", \"Lastname\": \"French\", \"TaxAmt\": \"947.2795\", \"TotalDue\": \"11111.3027\", \"Fullname\": \"Susan French\", \"LineTotal\": \"3499.176\", \"ShipDate\": \"3/7/2012\", \"EmployeeID\": \"278\", \"SalesOrderDetailID\": \"7912\", \"Freight\": \"296.0248\", \"UnitPriceDiscount\": \"0\", \".CustomerID\": \"907\", \"OrderDate\": \"2/29/2012\", \"UnitPrice\": \"874.794\", \"OrderQty\": \"4\", \"SalesOrderID\": \"45800\"}\n{\"DueDate\": \"3/12/2012\", \"Firstname\": \"Susan\", \"ProductID\": \"762\", \"SubTotal\": \"9867.9984\", \"CustomerID\": \"907\", \"Lastname\": \"French\", \"TaxAmt\": \"947.2795\", \"TotalDue\": \"11111.3027\", \"Fullname\": \"Susan French\", \"LineTotal\": \"1258.3767\", \"ShipDate\": \"3/7/2012\", \"EmployeeID\": \"278\", \"SalesOrderDetailID\": \"7913\", \"Freight\": \"296.0248\", \"UnitPriceDiscount\": \"0\", \".CustomerID\": \"907\", \"OrderDate\": \"2/29/2012\", \"UnitPrice\": \"419.4589\", \"OrderQty\": \"3\", \"SalesOrderID\": \"45800\"}\n",
					"output_type": "stream"
				}
			]
		},
		{
			"cell_type": "code",
			"source": "# Writing down the data in a Dynamic Frame to S3 location\noutput_path = \"s3://myawsgluebkt/ write_down_dyf_to_s3/\"\n\nglueContext.write_dynamic_frame.from_options(\n    frame=dynamicFrameCustomers,\n    connection_type=\"s3\",\n    connection_options={\"path\": output_path},\n    format=\"csv\",\n    format_options={\"separator\": \",\"},\n    transformation_ctx=\"datasink2\"\n)",
			"metadata": {
				"trusted": true,
				"tags": []
			},
			"execution_count": 15,
			"outputs": [
				{
					"name": "stdout",
					"text": "<awsglue.dynamicframe.DynamicFrame object at 0x7fba8ee01b70>\n",
					"output_type": "stream"
				}
			]
		},
		{
			"cell_type": "code",
			"source": "# Writing data from dynamicFrameCustomers to customers_write_dyf table using the metadata stored in the Glue Data Catalog\nglueContext.write_dynamic_frame.from_catalog(\n    frame=newdynamicFrameCustomers,\n    database=\"mygludatabse\",\n    table_name=\"customers_write_dyf\"\n)",
			"metadata": {
				"trusted": true,
				"tags": []
			},
			"execution_count": 26,
			"outputs": [
				{
					"name": "stdout",
					"text": "<awsglue.dynamicframe.DynamicFrame object at 0x7fba8ee030d0>\n",
					"output_type": "stream"
				}
			]
		},
		{
			"cell_type": "code",
			"source": "# Dynamic Frame to Spark DataFrame\nsparkDf = newdynamicFrameCustomers.toDF()\n# Showing spark DF\nsparkDf.show(10)",
			"metadata": {
				"trusted": true,
				"tags": []
			},
			"execution_count": 27,
			"outputs": [
				{
					"name": "stdout",
					"text": "+----------+---------+-----------+----------------+\n|CustomerID|Firstname|   Lastname|        Fullname|\n+----------+---------+-----------+----------------+\n|       293|Catherine|       Abel|  Catherine Abel|\n|       295|      Kim|Abercrombie| Kim Abercrombie|\n|       297| Humberto|    Acevedo|Humberto Acevedo|\n|       291|  Gustavo|     Achong|  Gustavo Achong|\n|       299|    Pilar|   Ackerman|  Pilar Ackerman|\n|       305|    Carla|      Adams|     Carla Adams|\n|       301|  Frances|      Adams|   Frances Adams|\n|       307|      Jay|      Adams|       Jay Adams|\n|       309|   Ronald|      Adina|    Ronald Adina|\n|       311|   Samuel|   Agcaoili| Samuel Agcaoili|\n+----------+---------+-----------+----------------+\nonly showing top 10 rows\n",
					"output_type": "stream"
				}
			]
		},
		{
			"cell_type": "code",
			"source": "# Selecting columns from spark dataframe\ndfSelect = sparkDf.select(\"Customerid\",\"Fullname\")\n# Showing selected\ndfSelect.show(10)",
			"metadata": {
				"trusted": true,
				"tags": []
			},
			"execution_count": 28,
			"outputs": [
				{
					"name": "stdout",
					"text": "+----------+----------------+\n|Customerid|        Fullname|\n+----------+----------------+\n|       293|  Catherine Abel|\n|       295| Kim Abercrombie|\n|       297|Humberto Acevedo|\n|       291|  Gustavo Achong|\n|       299|  Pilar Ackerman|\n|       305|     Carla Adams|\n|       301|   Frances Adams|\n|       307|       Jay Adams|\n|       309|    Ronald Adina|\n|       311| Samuel Agcaoili|\n+----------+----------------+\nonly showing top 10 rows\n",
					"output_type": "stream"
				}
			]
		},
		{
			"cell_type": "code",
			"source": "# Importing lit from sql functions\nfrom pyspark.sql.functions import lit\n# Adding new column to spark dataframe\ndfNewColumn = sparkDf.withColumn(\"Date\", lit(\"2022-07-24\"))\n# Showing df with new column\ndfNewColumn.show(10)",
			"metadata": {
				"trusted": true,
				"tags": []
			},
			"execution_count": 29,
			"outputs": [
				{
					"name": "stdout",
					"text": "+----------+---------+-----------+----------------+----------+\n|CustomerID|Firstname|   Lastname|        Fullname|      Date|\n+----------+---------+-----------+----------------+----------+\n|       293|Catherine|       Abel|  Catherine Abel|2022-07-24|\n|       295|      Kim|Abercrombie| Kim Abercrombie|2022-07-24|\n|       297| Humberto|    Acevedo|Humberto Acevedo|2022-07-24|\n|       291|  Gustavo|     Achong|  Gustavo Achong|2022-07-24|\n|       299|    Pilar|   Ackerman|  Pilar Ackerman|2022-07-24|\n|       305|    Carla|      Adams|     Carla Adams|2022-07-24|\n|       301|  Frances|      Adams|   Frances Adams|2022-07-24|\n|       307|      Jay|      Adams|       Jay Adams|2022-07-24|\n|       309|   Ronald|      Adina|    Ronald Adina|2022-07-24|\n|       311|   Samuel|   Agcaoili| Samuel Agcaoili|2022-07-24|\n+----------+---------+-----------+----------------+----------+\nonly showing top 10 rows\n",
					"output_type": "stream"
				}
			]
		},
		{
			"cell_type": "code",
			"source": "# Importing concat from functions\nfrom pyspark.sql.functions import concat\n# Creating another full name column\ndfNewFullName = sparkDf.withColumn(\"New_full_name\",concat(\"Firstname\",concat(lit(' '),\"Lastname\")))\n# Showing full name column\ndfNewFullName.show(10)",
			"metadata": {
				"trusted": true,
				"tags": []
			},
			"execution_count": 30,
			"outputs": [
				{
					"name": "stdout",
					"text": "+----------+---------+-----------+----------------+----------------+\n|CustomerID|Firstname|   Lastname|        Fullname|   New_full_name|\n+----------+---------+-----------+----------------+----------------+\n|       293|Catherine|       Abel|  Catherine Abel|  Catherine Abel|\n|       295|      Kim|Abercrombie| Kim Abercrombie| Kim Abercrombie|\n|       297| Humberto|    Acevedo|Humberto Acevedo|Humberto Acevedo|\n|       291|  Gustavo|     Achong|  Gustavo Achong|  Gustavo Achong|\n|       299|    Pilar|   Ackerman|  Pilar Ackerman|  Pilar Ackerman|\n|       305|    Carla|      Adams|     Carla Adams|     Carla Adams|\n|       301|  Frances|      Adams|   Frances Adams|   Frances Adams|\n|       307|      Jay|      Adams|       Jay Adams|       Jay Adams|\n|       309|   Ronald|      Adina|    Ronald Adina|    Ronald Adina|\n|       311|   Samuel|   Agcaoili| Samuel Agcaoili| Samuel Agcaoili|\n+----------+---------+-----------+----------------+----------------+\nonly showing top 10 rows\n",
					"output_type": "stream"
				}
			]
		},
		{
			"cell_type": "code",
			"source": "# Dropping column from spark dataframe\ndfDropCol = sparkDf.drop(\"Firstname\",\"Lastname\")\n# Showing dropped column df\ndfDropCol.show(10)",
			"metadata": {
				"trusted": true,
				"tags": []
			},
			"execution_count": 31,
			"outputs": [
				{
					"name": "stdout",
					"text": "+----------+----------------+\n|CustomerID|        Fullname|\n+----------+----------------+\n|       293|  Catherine Abel|\n|       295| Kim Abercrombie|\n|       297|Humberto Acevedo|\n|       291|  Gustavo Achong|\n|       299|  Pilar Ackerman|\n|       305|     Carla Adams|\n|       301|   Frances Adams|\n|       307|       Jay Adams|\n|       309|    Ronald Adina|\n|       311| Samuel Agcaoili|\n+----------+----------------+\nonly showing top 10 rows\n",
					"output_type": "stream"
				}
			]
		},
		{
			"cell_type": "code",
			"source": "# Renaming column in Spark dataframe\ndfRenameCol = sparkDf.withColumnRenamed(\"Fullname\",\"Full_name\")\n# Showing renamed column dataframe\ndfRenameCol.show(10)",
			"metadata": {
				"trusted": true,
				"tags": []
			},
			"execution_count": 32,
			"outputs": [
				{
					"name": "stdout",
					"text": "+----------+---------+-----------+----------------+\n|CustomerID|Firstname|   Lastname|       Full_name|\n+----------+---------+-----------+----------------+\n|       293|Catherine|       Abel|  Catherine Abel|\n|       295|      Kim|Abercrombie| Kim Abercrombie|\n|       297| Humberto|    Acevedo|Humberto Acevedo|\n|       291|  Gustavo|     Achong|  Gustavo Achong|\n|       299|    Pilar|   Ackerman|  Pilar Ackerman|\n|       305|    Carla|      Adams|     Carla Adams|\n|       301|  Frances|      Adams|   Frances Adams|\n|       307|      Jay|      Adams|       Jay Adams|\n|       309|   Ronald|      Adina|    Ronald Adina|\n|       311|   Samuel|   Agcaoili| Samuel Agcaoili|\n+----------+---------+-----------+----------------+\nonly showing top 10 rows\n",
					"output_type": "stream"
				}
			]
		},
		{
			"cell_type": "code",
			"source": "# Groupping by lastname then print counts of lastname and show\nsparkDf.groupBy(\"Lastname\").count().show(10)\n",
			"metadata": {
				"trusted": true,
				"tags": []
			},
			"execution_count": 33,
			"outputs": [
				{
					"name": "stdout",
					"text": "+--------+-----+\n|Lastname|count|\n+--------+-----+\n|  Bailey|    1|\n|Atkinson|    1|\n|  Avalos|    1|\n| Bacalzo|    1|\n|Bennetts|    1|\n|Barnhill|    1|\n|   Black|    1|\n|   Ayers|    1|\n|  Banack|    1|\n|  Becker|    1|\n+--------+-----+\nonly showing top 10 rows\n",
					"output_type": "stream"
				}
			]
		},
		{
			"cell_type": "code",
			"source": "# Filtering spark DataFrame for customers who have the last name Adams\nsparkDf.filter(sparkDf[\"Lastname\"] == \"Adams\").show(10)",
			"metadata": {
				"trusted": true,
				"tags": []
			},
			"execution_count": 34,
			"outputs": [
				{
					"name": "stdout",
					"text": "+----------+---------+--------+-------------+\n|CustomerID|Firstname|Lastname|     Fullname|\n+----------+---------+--------+-------------+\n|       305|    Carla|   Adams|  Carla Adams|\n|       301|  Frances|   Adams|Frances Adams|\n|       307|      Jay|   Adams|    Jay Adams|\n+----------+---------+--------+-------------+\n",
					"output_type": "stream"
				}
			]
		},
		{
			"cell_type": "code",
			"source": "# Where clause spark DataFrame for customers who have the last name Adams\nsparkDf.where(\"Lastname =='Adams'\").show(10)",
			"metadata": {
				"trusted": true,
				"tags": []
			},
			"execution_count": 62,
			"outputs": [
				{
					"name": "stdout",
					"text": "+----------+---------+--------+-------------+\n|Customerid|Firstname|Lastname|     Fullname|\n+----------+---------+--------+-------------+\n|       305|    Carla|   Adams|  Carla Adams|\n|       301|  Frances|   Adams|Frances Adams|\n|       307|      Jay|   Adams|    Jay Adams|\n+----------+---------+--------+-------------+\n",
					"output_type": "stream"
				}
			]
		},
		{
			"cell_type": "code",
			"source": "# Converting Orders table from Dynamic Frame to Spark DataFrame\nsparkDf1 = newdynamicFrameOrders.toDF()\n# Showing spark DF\nsparkDf1.show(10)",
			"metadata": {
				"trusted": true,
				"tags": []
			},
			"execution_count": 35,
			"outputs": [
				{
					"name": "stdout",
					"text": "+------------+------------------+---------+---------+--------+----------+----------+----------+---------+--------+----------+---------+--------+---------+-----------------+---------+\n|SalesOrderID|SalesOrderDetailID|OrderDate|  DueDate|ShipDate|EmployeeID|CustomerID|  SubTotal|   TaxAmt| Freight|  TotalDue|ProductID|OrderQty|UnitPrice|UnitPriceDiscount|LineTotal|\n+------------+------------------+---------+---------+--------+----------+----------+----------+---------+--------+----------+---------+--------+---------+-----------------+---------+\n|       43659|                 1|5/31/2011|6/12/2011|6/7/2011|       279|      1045|20565.6206|1971.5149|616.0984|23153.2339|      776|       1| 2024.994|                0| 2024.994|\n|       43659|                 2|5/31/2011|6/12/2011|6/7/2011|       279|      1045|20565.6206|1971.5149|616.0984|23153.2339|      777|       3| 2024.994|                0| 6074.982|\n|       43659|                 3|5/31/2011|6/12/2011|6/7/2011|       279|      1045|20565.6206|1971.5149|616.0984|23153.2339|      778|       1| 2024.994|                0| 2024.994|\n|       43659|                 4|5/31/2011|6/12/2011|6/7/2011|       279|      1045|20565.6206|1971.5149|616.0984|23153.2339|      771|       1| 2039.994|                0| 2039.994|\n|       43659|                 5|5/31/2011|6/12/2011|6/7/2011|       279|      1045|20565.6206|1971.5149|616.0984|23153.2339|      772|       1| 2039.994|                0| 2039.994|\n|       43659|                 6|5/31/2011|6/12/2011|6/7/2011|       279|      1045|20565.6206|1971.5149|616.0984|23153.2339|      773|       2| 2039.994|                0| 4079.988|\n|       43659|                 7|5/31/2011|6/12/2011|6/7/2011|       279|      1045|20565.6206|1971.5149|616.0984|23153.2339|      774|       1| 2039.994|                0| 2039.994|\n|       43659|                 8|5/31/2011|6/12/2011|6/7/2011|       279|      1045|20565.6206|1971.5149|616.0984|23153.2339|      714|       3|  28.8404|                0|  86.5212|\n|       43659|                 9|5/31/2011|6/12/2011|6/7/2011|       279|      1045|20565.6206|1971.5149|616.0984|23153.2339|      716|       1|  28.8404|                0|  28.8404|\n|       43659|                10|5/31/2011|6/12/2011|6/7/2011|       279|      1045|20565.6206|1971.5149|616.0984|23153.2339|      709|       6|      5.7|                0|     34.2|\n+------------+------------------+---------+---------+--------+----------+----------+----------+---------+--------+----------+---------+--------+---------+-----------------+---------+\nonly showing top 10 rows\n",
					"output_type": "stream"
				}
			]
		},
		{
			"cell_type": "code",
			"source": "# Inner Join Customers Spark DF to Orders Spark DF\ninnerJoinDf = sparkDf.join(sparkDf1, sparkDf['CustomerID'] == sparkDf1['CustomerID'], \"inner\")\ninnerJoinDf.show(10, truncate=False)",
			"metadata": {
				"trusted": true,
				"tags": []
			},
			"execution_count": 38,
			"outputs": [
				{
					"name": "stdout",
					"text": "+----------+---------+--------+------------+------------+------------------+---------+---------+--------+----------+----------+---------+--------+--------+---------+---------+--------+---------+-----------------+---------+\n|CustomerID|Firstname|Lastname|Fullname    |SalesOrderID|SalesOrderDetailID|OrderDate|DueDate  |ShipDate|EmployeeID|CustomerID|SubTotal |TaxAmt  |Freight |TotalDue |ProductID|OrderQty|UnitPrice|UnitPriceDiscount|LineTotal|\n+----------+---------+--------+------------+------------+------------------+---------+---------+--------+----------+----------+---------+--------+--------+---------+---------+--------+---------+-----------------+---------+\n|487       |Mae      |Black   |Mae Black   |43670       |111               |5/31/2011|6/12/2011|6/7/2011|275       |487       |6122.082 |587.5603|183.6126|6893.2549|710      |1       |5.7      |0                |5.7      |\n|487       |Mae      |Black   |Mae Black   |43670       |112               |5/31/2011|6/12/2011|6/7/2011|275       |487       |6122.082 |587.5603|183.6126|6893.2549|709      |2       |5.7      |0                |11.4     |\n|487       |Mae      |Black   |Mae Black   |43670       |113               |5/31/2011|6/12/2011|6/7/2011|275       |487       |6122.082 |587.5603|183.6126|6893.2549|773      |2       |2039.994 |0                |4079.988 |\n|487       |Mae      |Black   |Mae Black   |43670       |114               |5/31/2011|6/12/2011|6/7/2011|275       |487       |6122.082 |587.5603|183.6126|6893.2549|776      |1       |2024.994 |0                |2024.994 |\n|1085      |Nancy    |Hirota  |Nancy Hirota|43673       |129               |5/31/2011|6/12/2011|6/7/2011|275       |1085      |3746.2015|357.9614|111.8629|4216.0258|754      |1       |874.794  |0                |874.794  |\n|1085      |Nancy    |Hirota  |Nancy Hirota|43673       |130               |5/31/2011|6/12/2011|6/7/2011|275       |1085      |3746.2015|357.9614|111.8629|4216.0258|715      |3       |28.8404  |0                |86.5212  |\n|1085      |Nancy    |Hirota  |Nancy Hirota|43673       |131               |5/31/2011|6/12/2011|6/7/2011|275       |1085      |3746.2015|357.9614|111.8629|4216.0258|729      |1       |183.9382 |0                |183.9382 |\n|1085      |Nancy    |Hirota  |Nancy Hirota|43673       |132               |5/31/2011|6/12/2011|6/7/2011|275       |1085      |3746.2015|357.9614|111.8629|4216.0258|761      |2       |419.4589 |0                |838.9178 |\n|1085      |Nancy    |Hirota  |Nancy Hirota|43673       |133               |5/31/2011|6/12/2011|6/7/2011|275       |1085      |3746.2015|357.9614|111.8629|4216.0258|762      |1       |419.4589 |0                |419.4589 |\n|1085      |Nancy    |Hirota  |Nancy Hirota|43673       |134               |5/31/2011|6/12/2011|6/7/2011|275       |1085      |3746.2015|357.9614|111.8629|4216.0258|738      |2       |178.5808 |0                |357.1616 |\n+----------+---------+--------+------------+------------+------------------+---------+---------+--------+----------+----------+---------+--------+--------+---------+---------+--------+---------+-----------------+---------+\nonly showing top 10 rows\n",
					"output_type": "stream"
				}
			]
		},
		{
			"cell_type": "code",
			"source": "# Getting customers that only have surname Adams\ndfAdams = sparkDf.filter(sparkDf['Lastname'] == 'Adams')\ndfAdams.show(10)",
			"metadata": {
				"trusted": true,
				"tags": []
			},
			"execution_count": 39,
			"outputs": [
				{
					"name": "stdout",
					"text": "+----------+---------+--------+-------------+\n|CustomerID|Firstname|Lastname|     Fullname|\n+----------+---------+--------+-------------+\n|       305|    Carla|   Adams|  Carla Adams|\n|       301|  Frances|   Adams|Frances Adams|\n|       307|      Jay|   Adams|    Jay Adams|\n+----------+---------+--------+-------------+\n",
					"output_type": "stream"
				}
			]
		},
		{
			"cell_type": "code",
			"source": "# inner join on Adams DF and orders\ndfAdams.join(sparkDf1,dfAdams.CustomerID == sparkDf1.CustomerID,\"inner\").show(10)",
			"metadata": {
				"trusted": true,
				"tags": []
			},
			"execution_count": 40,
			"outputs": [
				{
					"name": "stdout",
					"text": "+----------+---------+--------+-------------+------------+------------------+---------+---------+--------+----------+----------+----------+---------+---------+----------+---------+--------+---------+-----------------+---------+\n|CustomerID|Firstname|Lastname|     Fullname|SalesOrderID|SalesOrderDetailID|OrderDate|  DueDate|ShipDate|EmployeeID|CustomerID|  SubTotal|   TaxAmt|  Freight|  TotalDue|ProductID|OrderQty|UnitPrice|UnitPriceDiscount|LineTotal|\n+----------+---------+--------+-------------+------------+------------------+---------+---------+--------+----------+----------+----------+---------+---------+----------+---------+--------+---------+-----------------+---------+\n|       301|  Frances|   Adams|Frances Adams|       46634|             11379|5/30/2012|6/11/2012|6/6/2012|       281|       301|  733.2159|  87.2586|  27.2683|  847.7428|      849|       1|   35.994|                0|   35.994|\n|       301|  Frances|   Adams|Frances Adams|       46634|             11380|5/30/2012|6/11/2012|6/6/2012|       281|       301|  733.2159|  87.2586|  27.2683|  847.7428|      762|       1|  234.897|              0.3| 164.4279|\n|       301|  Frances|   Adams|Frances Adams|       46634|             11381|5/30/2012|6/11/2012|6/6/2012|       281|       301|  733.2159|  87.2586|  27.2683|  847.7428|      725|       1|  202.332|                0|  202.332|\n|       301|  Frances|   Adams|Frances Adams|       46634|             11382|5/30/2012|6/11/2012|6/6/2012|       281|       301|  733.2159|  87.2586|  27.2683|  847.7428|      827|       2|  165.231|                0|  330.462|\n|       301|  Frances|   Adams|Frances Adams|       55264|             55087|8/30/2013|9/11/2013|9/6/2013|       281|       301|63981.9338|6122.7127|1913.3477|72017.9942|      870|       4|    2.994|                0|   11.976|\n|       301|  Frances|   Adams|Frances Adams|       55264|             55088|8/30/2013|9/11/2013|9/6/2013|       281|       301|63981.9338|6122.7127|1913.3477|72017.9942|      858|       4|   14.694|                0|   58.776|\n|       301|  Frances|   Adams|Frances Adams|       55264|             55089|8/30/2013|9/11/2013|9/6/2013|       281|       301|63981.9338|6122.7127|1913.3477|72017.9942|      998|       7|  323.994|                0| 2267.958|\n|       301|  Frances|   Adams|Frances Adams|       55264|             55090|8/30/2013|9/11/2013|9/6/2013|       281|       301|63981.9338|6122.7127|1913.3477|72017.9942|      797|       4|  672.294|                0| 2689.176|\n|       301|  Frances|   Adams|Frances Adams|       55264|             55091|8/30/2013|9/11/2013|9/6/2013|       281|       301|63981.9338|6122.7127|1913.3477|72017.9942|      864|      10|     38.1|                0|      381|\n|       301|  Frances|   Adams|Frances Adams|       55264|             55092|8/30/2013|9/11/2013|9/6/2013|       281|       301|63981.9338|6122.7127|1913.3477|72017.9942|      881|       3|   32.394|                0|   97.182|\n+----------+---------+--------+-------------+------------+------------------+---------+---------+--------+----------+----------+----------+---------+---------+----------+---------+--------+---------+-----------------+---------+\nonly showing top 10 rows\n",
					"output_type": "stream"
				}
			]
		},
		{
			"cell_type": "code",
			"source": "#left join on orders and adams df\nsparkDf1.join(dfAdams,dfAdams.CustomerID == sparkDf1.CustomerID,\"left\").show(10)",
			"metadata": {
				"trusted": true,
				"tags": []
			},
			"execution_count": 41,
			"outputs": [
				{
					"name": "stdout",
					"text": "+------------+------------------+---------+----------+---------+----------+----------+----------+---------+---------+----------+---------+--------+---------+-----------------+---------+----------+---------+--------+--------+\n|SalesOrderID|SalesOrderDetailID|OrderDate|   DueDate| ShipDate|EmployeeID|CustomerID|  SubTotal|   TaxAmt|  Freight|  TotalDue|ProductID|OrderQty|UnitPrice|UnitPriceDiscount|LineTotal|CustomerID|Firstname|Lastname|Fullname|\n+------------+------------------+---------+----------+---------+----------+----------+----------+---------+---------+----------+---------+--------+---------+-----------------+---------+----------+---------+--------+--------+\n|       44552|              3682|10/1/2011|10/13/2011|10/8/2011|       279|       339|97915.4075|9418.0316|2943.1349|110276.574|      715|       2|  28.8404|                0|  57.6808|      null|     null|    null|    null|\n|       44552|              3683|10/1/2011|10/13/2011|10/8/2011|       279|       339|97915.4075|9418.0316|2943.1349|110276.574|      774|       6| 2039.994|                0|12239.964|      null|     null|    null|    null|\n|       44552|              3684|10/1/2011|10/13/2011|10/8/2011|       279|       339|97915.4075|9418.0316|2943.1349|110276.574|      748|       1| 722.5949|                0| 722.5949|      null|     null|    null|    null|\n|       44552|              3685|10/1/2011|10/13/2011|10/8/2011|       279|       339|97915.4075|9418.0316|2943.1349|110276.574|      778|       2| 2024.994|                0| 4049.988|      null|     null|    null|    null|\n|       44552|              3686|10/1/2011|10/13/2011|10/8/2011|       279|       339|97915.4075|9418.0316|2943.1349|110276.574|      747|       1| 714.7043|                0| 714.7043|      null|     null|    null|    null|\n|       44552|              3687|10/1/2011|10/13/2011|10/8/2011|       279|       339|97915.4075|9418.0316|2943.1349|110276.574|      708|       1|  20.1865|                0|  20.1865|      null|     null|    null|    null|\n|       44552|              3688|10/1/2011|10/13/2011|10/8/2011|       279|       339|97915.4075|9418.0316|2943.1349|110276.574|      775|       6| 2024.994|                0|12149.964|      null|     null|    null|    null|\n|       44552|              3689|10/1/2011|10/13/2011|10/8/2011|       279|       339|97915.4075|9418.0316|2943.1349|110276.574|      773|       5| 2039.994|                0| 10199.97|      null|     null|    null|    null|\n|       44552|              3690|10/1/2011|10/13/2011|10/8/2011|       279|       339|97915.4075|9418.0316|2943.1349|110276.574|      772|       8| 2039.994|                0|16319.952|      null|     null|    null|    null|\n|       44552|              3691|10/1/2011|10/13/2011|10/8/2011|       279|       339|97915.4075|9418.0316|2943.1349|110276.574|      714|       3|  28.8404|                0|  86.5212|      null|     null|    null|    null|\n+------------+------------------+---------+----------+---------+----------+----------+----------+---------+---------+----------+---------+--------+---------+-----------------+---------+----------+---------+--------+--------+\nonly showing top 10 rows\n",
					"output_type": "stream"
				}
			]
		},
		{
			"cell_type": "code",
			"source": "# Importing Dynamic DataFrame class\nfrom awsglue.dynamicframe import DynamicFrame\n# Converting from Spark Data Frame to Glue Dynamic Frame\ndyfCustomersConvert = DynamicFrame.fromDF(sparkDf, glueContext, \"convert\")\n# Showing converted Glue Dynamic Frame\ndyfCustomersConvert.show(10)",
			"metadata": {
				"trusted": true,
				"tags": []
			},
			"execution_count": 42,
			"outputs": [
				{
					"name": "stdout",
					"text": "{\"CustomerID\": \"293\", \"Firstname\": \"Catherine\", \"Lastname\": \"Abel\", \"Fullname\": \"Catherine Abel\"}\n{\"CustomerID\": \"295\", \"Firstname\": \"Kim\", \"Lastname\": \"Abercrombie\", \"Fullname\": \"Kim Abercrombie\"}\n{\"CustomerID\": \"297\", \"Firstname\": \"Humberto\", \"Lastname\": \"Acevedo\", \"Fullname\": \"Humberto Acevedo\"}\n{\"CustomerID\": \"291\", \"Firstname\": \"Gustavo\", \"Lastname\": \"Achong\", \"Fullname\": \"Gustavo Achong\"}\n{\"CustomerID\": \"299\", \"Firstname\": \"Pilar\", \"Lastname\": \"Ackerman\", \"Fullname\": \"Pilar Ackerman\"}\n{\"CustomerID\": \"305\", \"Firstname\": \"Carla\", \"Lastname\": \"Adams\", \"Fullname\": \"Carla Adams\"}\n{\"CustomerID\": \"301\", \"Firstname\": \"Frances\", \"Lastname\": \"Adams\", \"Fullname\": \"Frances Adams\"}\n{\"CustomerID\": \"307\", \"Firstname\": \"Jay\", \"Lastname\": \"Adams\", \"Fullname\": \"Jay Adams\"}\n{\"CustomerID\": \"309\", \"Firstname\": \"Ronald\", \"Lastname\": \"Adina\", \"Fullname\": \"Ronald Adina\"}\n{\"CustomerID\": \"311\", \"Firstname\": \"Samuel\", \"Lastname\": \"Agcaoili\", \"Fullname\": \"Samuel Agcaoili\"}\n",
					"output_type": "stream"
				}
			]
		},
		{
			"cell_type": "code",
			"source": "# Writing down the data in converted Dynamic Frame to S3 location.\noutput_path = \"s3://myawsgluebkt/write_down_dyf_to_s3/\" \nglueContext.write_dynamic_frame.from_options(\n    frame=dyfCustomersConvert,\n    connection_type=\"s3\",\n    connection_options={\"path\": output_path},\n    format=\"csv\",\n    format_options={\n        \"separator\": \",\"\n    },\n    transformation_ctx=\"datasink2\"\n)",
			"metadata": {
				"trusted": true,
				"tags": []
			},
			"execution_count": 43,
			"outputs": [
				{
					"name": "stdout",
					"text": "<awsglue.dynamicframe.DynamicFrame object at 0x7fba8ee374c0>\n",
					"output_type": "stream"
				}
			]
		},
		{
			"cell_type": "code",
			"source": "# Writing data from the converted to customers_write_dyf table using the metadata stored in the glue data catalog\nglueContext.write_dynamic_frame.from_catalog(\nframe = dyfCustomersConvert,\ndatabase = \"mygludatabse\", table_name = \"customers_write_dyf\")",
			"metadata": {
				"trusted": true,
				"tags": []
			},
			"execution_count": 44,
			"outputs": [
				{
					"name": "stdout",
					"text": "<awsglue.dynamicframe.DynamicFrame object at 0x7fba8ee373a0>\n",
					"output_type": "stream"
				}
			]
		},
		{
			"cell_type": "code",
			"source": "",
			"metadata": {},
			"execution_count": null,
			"outputs": []
		}
	]
}