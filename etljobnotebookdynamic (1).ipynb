{
	"metadata": {
		"kernelspec": {
			"name": "glue_pyspark",
			"display_name": "Glue PySpark",
			"language": "python"
		},
		"language_info": {
			"name": "Python_Glue_Session",
			"mimetype": "text/x-python",
			"codemirror_mode": {
				"name": "python",
				"version": 3
			},
			"pygments_lexer": "python3",
			"file_extension": ".py"
		}
	},
	"nbformat_minor": 4,
	"nbformat": 4,
	"cells": [
		{
			"cell_type": "code",
			"source": "",
			"metadata": {},
			"execution_count": null,
			"outputs": []
		},
		{
			"cell_type": "markdown",
			"source": "#### Optional: Run this cell to see available notebook commands (\"magics\").\n",
			"metadata": {
				"editable": true,
				"trusted": true
			}
		},
		{
			"cell_type": "code",
			"source": "",
			"metadata": {},
			"execution_count": null,
			"outputs": []
		},
		{
			"cell_type": "code",
			"source": "",
			"metadata": {},
			"execution_count": null,
			"outputs": []
		},
		{
			"cell_type": "markdown",
			"source": "# AWS Glue Studio Notebook\n##### You are now running a AWS Glue Studio notebook; To start using your notebook you need to start an AWS Glue Interactive Session.\n",
			"metadata": {
				"editable": true,
				"trusted": true
			}
		},
		{
			"cell_type": "code",
			"source": "%help",
			"metadata": {
				"trusted": true,
				"editable": true
			},
			"execution_count": null,
			"outputs": []
		},
		{
			"cell_type": "markdown",
			"source": "####  Run this cell to set up and start your interactive session.\n",
			"metadata": {
				"editable": true,
				"trusted": true
			}
		},
		{
			"cell_type": "code",
			"source": "%idle_timeout 2880\n%glue_version 4.0\n%worker_type G.1X\n%number_of_workers 5\n\nimport sys\nfrom awsglue.transforms import *\nfrom awsglue.utils import getResolvedOptions\nfrom pyspark.context import SparkContext\nfrom awsglue.context import GlueContext\nfrom awsglue.job import Job\n  \nsc = SparkContext.getOrCreate()\nglueContext = GlueContext(sc)\nspark = glueContext.spark_session\njob = Job(glueContext)",
			"metadata": {
				"trusted": true,
				"editable": true
			},
			"execution_count": 2,
			"outputs": [
				{
					"name": "stderr",
					"text": "You are already connected to a glueetl session ab092a2b-868f-443f-a308-c30eacfe40d7.\n\nNo change will be made to the current session that is set as glueetl. The session configuration change will apply to newly created sessions.\n",
					"output_type": "stream"
				},
				{
					"name": "stdout",
					"text": "Current idle_timeout is None minutes.\nidle_timeout has been set to 2880 minutes.\n",
					"output_type": "stream"
				},
				{
					"name": "stderr",
					"text": "You are already connected to a glueetl session ab092a2b-868f-443f-a308-c30eacfe40d7.\n\nNo change will be made to the current session that is set as glueetl. The session configuration change will apply to newly created sessions.\n",
					"output_type": "stream"
				},
				{
					"name": "stdout",
					"text": "Setting Glue version to: 4.0\n",
					"output_type": "stream"
				},
				{
					"name": "stderr",
					"text": "You are already connected to a glueetl session ab092a2b-868f-443f-a308-c30eacfe40d7.\n\nNo change will be made to the current session that is set as glueetl. The session configuration change will apply to newly created sessions.\n",
					"output_type": "stream"
				},
				{
					"name": "stdout",
					"text": "Previous worker type: None\nSetting new worker type to: G.1X\n",
					"output_type": "stream"
				},
				{
					"name": "stderr",
					"text": "You are already connected to a glueetl session ab092a2b-868f-443f-a308-c30eacfe40d7.\n\nNo change will be made to the current session that is set as glueetl. The session configuration change will apply to newly created sessions.\n",
					"output_type": "stream"
				},
				{
					"name": "stdout",
					"text": "Previous number of workers: None\nSetting new number of workers to: 5\n\n",
					"output_type": "stream"
				}
			]
		},
		{
			"cell_type": "markdown",
			"source": "#### Example: Create a DynamicFrame from a table in the AWS Glue Data Catalog and display its schema\n",
			"metadata": {
				"editable": true,
				"trusted": true
			}
		},
		{
			"cell_type": "code",
			"source": "dyf = glueContext.create_dynamic_frame.from_catalog(database='gluedbonaws', table_name='mygluetable')\ndyf.printSchema()",
			"metadata": {
				"trusted": true,
				"editable": true
			},
			"execution_count": 10,
			"outputs": [
				{
					"name": "stdout",
					"text": "root\n|-- col0: string\n|-- col1: string\n|-- col2: string\n|-- col3: string\n|-- col4: string\n|-- col5: string\n|-- col6: string\n|-- col7: string\n|-- col8: string\n|-- col9: string\n|-- col10: string\n|-- col11: string\n|-- col12: string\n|-- col13: string\n|-- col14: string\n|-- col15: string\n|-- col16: string\n|-- col17: string\n",
					"output_type": "stream"
				}
			]
		},
		{
			"cell_type": "markdown",
			"source": "#### Example: Convert the DynamicFrame to a Spark DataFrame and display a sample of the data\n",
			"metadata": {
				"editable": true,
				"tags": [],
				"trusted": true
			}
		},
		{
			"cell_type": "code",
			"source": "df = dyf.toDF()\ndf.show()",
			"metadata": {
				"trusted": true,
				"editable": true
			},
			"execution_count": 11,
			"outputs": [
				{
					"name": "stdout",
					"text": "+--------+--------------------+--------------------+---------------+-------------+----------+------------------+------------+------------+------------+-----------+-----+-------+----------+------------+--------------------+------------+--------------------+\n|    col0|                col1|                col2|           col3|         col4|      col5|              col6|        col7|        col8|        col9|      col10|col11|  col12|     col13|       col14|               col15|       col16|               col17|\n+--------+--------------------+--------------------+---------------+-------------+----------+------------------+------------+------------+------------+-----------+-----+-------+----------+------------+--------------------+------------+--------------------+\n|VendorID|tpep_pickup_datetime|tpep_dropoff_date...|passenger_count|trip_distance|RatecodeID|store_and_fwd_flag|PULocationID|DOLocationID|payment_type|fare_amount|extra|mta_tax|tip_amount|tolls_amount|improvement_surch...|total_amount|congestion_surcharge|\n|       1| 2020-01-01 00:28:15| 2020-01-01 00:33:03|              1|         1.20|         1|                 N|         238|         239|           1|          6|    3|    0.5|      1.47|           0|                 0.3|       11.27|                 2.5|\n|       1| 2020-01-01 00:35:39| 2020-01-01 00:43:04|              1|         1.20|         1|                 N|         239|         238|           1|          7|    3|    0.5|       1.5|           0|                 0.3|        12.3|                 2.5|\n|       1| 2020-01-01 00:47:41| 2020-01-01 00:53:52|              1|          .60|         1|                 N|         238|         238|           1|          6|    3|    0.5|         1|           0|                 0.3|        10.8|                 2.5|\n|       1| 2020-01-01 00:55:23| 2020-01-01 01:00:14|              1|          .80|         1|                 N|         238|         151|           1|        5.5|  0.5|    0.5|      1.36|           0|                 0.3|        8.16|                   0|\n|       2| 2020-01-01 00:01:58| 2020-01-01 00:04:16|              1|          .00|         1|                 N|         193|         193|           2|        3.5|  0.5|    0.5|         0|           0|                 0.3|         4.8|                   0|\n|       2| 2020-01-01 00:09:44| 2020-01-01 00:10:37|              1|          .03|         1|                 N|           7|         193|           2|        2.5|  0.5|    0.5|         0|           0|                 0.3|         3.8|                   0|\n|       2| 2020-01-01 00:39:25| 2020-01-01 00:39:29|              1|          .00|         1|                 N|         193|         193|           1|        2.5|  0.5|    0.5|      0.01|           0|                 0.3|        3.81|                   0|\n|       2| 2019-12-18 15:27:49| 2019-12-18 15:28:59|              1|          .00|         5|                 N|         193|         193|           1|       0.01|    0|      0|         0|           0|                 0.3|        2.81|                 2.5|\n|       2| 2019-12-18 15:30:35| 2019-12-18 15:31:35|              4|          .00|         1|                 N|         193|         193|           1|        2.5|  0.5|    0.5|         0|           0|                 0.3|         6.3|                 2.5|\n|       1| 2020-01-01 00:29:01| 2020-01-01 00:40:28|              2|          .70|         1|                 N|         246|          48|           1|          8|    3|    0.5|      2.35|           0|                 0.3|       14.15|                 2.5|\n|       1| 2020-01-01 00:55:11| 2020-01-01 01:12:03|              2|         2.40|         1|                 N|         246|          79|           1|         12|    3|    0.5|      1.75|           0|                 0.3|       17.55|                 2.5|\n|       1| 2020-01-01 00:37:15| 2020-01-01 00:51:41|              1|          .80|         1|                 N|         163|         161|           2|        9.5|    3|    0.5|         0|           0|                 0.3|        13.3|                 2.5|\n|       1| 2020-01-01 00:56:27| 2020-01-01 01:21:44|              1|         3.30|         1|                 N|         161|         144|           1|         17|    3|    0.5|      4.15|           0|                 0.3|       24.95|                 2.5|\n|       2| 2020-01-01 00:21:54| 2020-01-01 00:27:31|              1|         1.07|         1|                 N|          43|         239|           1|          6|  0.5|    0.5|      1.96|           0|                 0.3|       11.76|                 2.5|\n|       2| 2020-01-01 00:38:01| 2020-01-01 01:15:21|              1|         7.76|         1|                 N|         143|          25|           1|       28.5|  0.5|    0.5|      4.84|           0|                 0.3|       37.14|                 2.5|\n|       1| 2020-01-01 00:15:35| 2020-01-01 00:27:06|              3|         1.60|         1|                 N|         211|         234|           2|          9|    3|    0.5|         0|           0|                 0.3|        12.8|                 2.5|\n|       1| 2020-01-01 00:41:20| 2020-01-01 00:44:22|              1|          .50|         1|                 Y|         234|          90|           1|          4|    3|    0.5|         1|           0|                 0.3|         8.8|                 2.5|\n|       1| 2020-01-01 00:56:38| 2020-01-01 01:13:34|              1|         1.70|         1|                 N|         246|         142|           2|       11.5|    3|    0.5|         0|           0|                 0.3|        15.3|                 2.5|\n|       2| 2020-01-01 00:08:21| 2020-01-01 00:25:29|              1|         8.45|         1|                 N|         138|         216|           2|       24.5|  0.5|    0.5|         0|           0|                 0.3|        25.8|                   0|\n+--------+--------------------+--------------------+---------------+-------------+----------+------------------+------------+------------+------------+-----------+-----+-------+----------+------------+--------------------+------------+--------------------+\nonly showing top 20 rows\n",
					"output_type": "stream"
				}
			]
		},
		{
			"cell_type": "markdown",
			"source": "#### Example: Visualize data with matplotlib\n",
			"metadata": {
				"editable": true,
				"trusted": true
			}
		},
		{
			"cell_type": "code",
			"source": "import matplotlib.pyplot as plt\n\n# Set X-axis and Y-axis values\nx = [5, 2, 8, 4, 9]\ny = [10, 4, 8, 5, 2]\n  \n# Create a bar chart \nplt.bar(x, y)\n  \n# Show the plot\n%matplot plt",
			"metadata": {
				"trusted": true,
				"editable": true
			},
			"execution_count": null,
			"outputs": []
		},
		{
			"cell_type": "markdown",
			"source": "#### Example: Write the data in the DynamicFrame to a location in Amazon S3 and a table for it in the AWS Glue Data Catalog\n",
			"metadata": {
				"editable": true,
				"trusted": true
			}
		},
		{
			"cell_type": "code",
			"source": "s3output = glueContext.getSink(\n  path=\"s3://bucket_name/folder_name\",\n  connection_type=\"s3\",\n  updateBehavior=\"UPDATE_IN_DATABASE\",\n  partitionKeys=[],\n  compression=\"snappy\",\n  enableUpdateCatalog=True,\n  transformation_ctx=\"s3output\",\n)\ns3output.setCatalogInfo(\n  catalogDatabase=\"demo\", catalogTableName=\"populations\"\n)\ns3output.setFormat(\"glueparquet\")\ns3output.writeFrame(DyF)",
			"metadata": {
				"trusted": true,
				"editable": true
			},
			"execution_count": null,
			"outputs": []
		},
		{
			"cell_type": "code",
			"source": "s3output = glueContext.getSink(\n  path=\"s3://transformedbuck/\",\n  connection_type=\"s3\",\n  updateBehavior=\"UPDATE_IN_DATABASE\",\n  partitionKeys=[],\n  compression=\"snappy\",\n  enableUpdateCatalog=True,\n  transformation_ctx=\"s3output\",\n)\ns3output.setCatalogInfo(\n  catalogDatabase=\"gluedbonaws\", catalogTableName=\"mygluetable\"\n)\ns3output.setFormat(\"glueparquet\")\ns3output.writeFrame(dyf)",
			"metadata": {
				"trusted": true,
				"tags": []
			},
			"execution_count": 13,
			"outputs": [
				{
					"name": "stdout",
					"text": "<awsglue.dynamicframe.DynamicFrame object at 0x7f8029349ab0>\n",
					"output_type": "stream"
				}
			]
		},
		{
			"cell_type": "code",
			"source": "dyf.count()\n",
			"metadata": {
				"trusted": true,
				"tags": []
			},
			"execution_count": 14,
			"outputs": [
				{
					"name": "stdout",
					"text": "6405009\n",
					"output_type": "stream"
				}
			]
		},
		{
			"cell_type": "code",
			"source": "dyf.show(20)",
			"metadata": {
				"trusted": true,
				"tags": []
			},
			"execution_count": 15,
			"outputs": [
				{
					"name": "stdout",
					"text": "{\"col0\": \"VendorID\", \"col1\": \"tpep_pickup_datetime\", \"col2\": \"tpep_dropoff_datetime\", \"col3\": \"passenger_count\", \"col4\": \"trip_distance\", \"col5\": \"RatecodeID\", \"col6\": \"store_and_fwd_flag\", \"col7\": \"PULocationID\", \"col8\": \"DOLocationID\", \"col9\": \"payment_type\", \"col10\": \"fare_amount\", \"col11\": \"extra\", \"col12\": \"mta_tax\", \"col13\": \"tip_amount\", \"col14\": \"tolls_amount\", \"col15\": \"improvement_surcharge\", \"col16\": \"total_amount\", \"col17\": \"congestion_surcharge\"}\n{\"col0\": \"1\", \"col1\": \"2020-01-01 00:28:15\", \"col2\": \"2020-01-01 00:33:03\", \"col3\": \"1\", \"col4\": \"1.20\", \"col5\": \"1\", \"col6\": \"N\", \"col7\": \"238\", \"col8\": \"239\", \"col9\": \"1\", \"col10\": \"6\", \"col11\": \"3\", \"col12\": \"0.5\", \"col13\": \"1.47\", \"col14\": \"0\", \"col15\": \"0.3\", \"col16\": \"11.27\", \"col17\": \"2.5\"}\n{\"col0\": \"1\", \"col1\": \"2020-01-01 00:35:39\", \"col2\": \"2020-01-01 00:43:04\", \"col3\": \"1\", \"col4\": \"1.20\", \"col5\": \"1\", \"col6\": \"N\", \"col7\": \"239\", \"col8\": \"238\", \"col9\": \"1\", \"col10\": \"7\", \"col11\": \"3\", \"col12\": \"0.5\", \"col13\": \"1.5\", \"col14\": \"0\", \"col15\": \"0.3\", \"col16\": \"12.3\", \"col17\": \"2.5\"}\n{\"col0\": \"1\", \"col1\": \"2020-01-01 00:47:41\", \"col2\": \"2020-01-01 00:53:52\", \"col3\": \"1\", \"col4\": \".60\", \"col5\": \"1\", \"col6\": \"N\", \"col7\": \"238\", \"col8\": \"238\", \"col9\": \"1\", \"col10\": \"6\", \"col11\": \"3\", \"col12\": \"0.5\", \"col13\": \"1\", \"col14\": \"0\", \"col15\": \"0.3\", \"col16\": \"10.8\", \"col17\": \"2.5\"}\n{\"col0\": \"1\", \"col1\": \"2020-01-01 00:55:23\", \"col2\": \"2020-01-01 01:00:14\", \"col3\": \"1\", \"col4\": \".80\", \"col5\": \"1\", \"col6\": \"N\", \"col7\": \"238\", \"col8\": \"151\", \"col9\": \"1\", \"col10\": \"5.5\", \"col11\": \"0.5\", \"col12\": \"0.5\", \"col13\": \"1.36\", \"col14\": \"0\", \"col15\": \"0.3\", \"col16\": \"8.16\", \"col17\": \"0\"}\n{\"col0\": \"2\", \"col1\": \"2020-01-01 00:01:58\", \"col2\": \"2020-01-01 00:04:16\", \"col3\": \"1\", \"col4\": \".00\", \"col5\": \"1\", \"col6\": \"N\", \"col7\": \"193\", \"col8\": \"193\", \"col9\": \"2\", \"col10\": \"3.5\", \"col11\": \"0.5\", \"col12\": \"0.5\", \"col13\": \"0\", \"col14\": \"0\", \"col15\": \"0.3\", \"col16\": \"4.8\", \"col17\": \"0\"}\n{\"col0\": \"2\", \"col1\": \"2020-01-01 00:09:44\", \"col2\": \"2020-01-01 00:10:37\", \"col3\": \"1\", \"col4\": \".03\", \"col5\": \"1\", \"col6\": \"N\", \"col7\": \"7\", \"col8\": \"193\", \"col9\": \"2\", \"col10\": \"2.5\", \"col11\": \"0.5\", \"col12\": \"0.5\", \"col13\": \"0\", \"col14\": \"0\", \"col15\": \"0.3\", \"col16\": \"3.8\", \"col17\": \"0\"}\n{\"col0\": \"2\", \"col1\": \"2020-01-01 00:39:25\", \"col2\": \"2020-01-01 00:39:29\", \"col3\": \"1\", \"col4\": \".00\", \"col5\": \"1\", \"col6\": \"N\", \"col7\": \"193\", \"col8\": \"193\", \"col9\": \"1\", \"col10\": \"2.5\", \"col11\": \"0.5\", \"col12\": \"0.5\", \"col13\": \"0.01\", \"col14\": \"0\", \"col15\": \"0.3\", \"col16\": \"3.81\", \"col17\": \"0\"}\n{\"col0\": \"2\", \"col1\": \"2019-12-18 15:27:49\", \"col2\": \"2019-12-18 15:28:59\", \"col3\": \"1\", \"col4\": \".00\", \"col5\": \"5\", \"col6\": \"N\", \"col7\": \"193\", \"col8\": \"193\", \"col9\": \"1\", \"col10\": \"0.01\", \"col11\": \"0\", \"col12\": \"0\", \"col13\": \"0\", \"col14\": \"0\", \"col15\": \"0.3\", \"col16\": \"2.81\", \"col17\": \"2.5\"}\n{\"col0\": \"2\", \"col1\": \"2019-12-18 15:30:35\", \"col2\": \"2019-12-18 15:31:35\", \"col3\": \"4\", \"col4\": \".00\", \"col5\": \"1\", \"col6\": \"N\", \"col7\": \"193\", \"col8\": \"193\", \"col9\": \"1\", \"col10\": \"2.5\", \"col11\": \"0.5\", \"col12\": \"0.5\", \"col13\": \"0\", \"col14\": \"0\", \"col15\": \"0.3\", \"col16\": \"6.3\", \"col17\": \"2.5\"}\n{\"col0\": \"1\", \"col1\": \"2020-01-01 00:29:01\", \"col2\": \"2020-01-01 00:40:28\", \"col3\": \"2\", \"col4\": \".70\", \"col5\": \"1\", \"col6\": \"N\", \"col7\": \"246\", \"col8\": \"48\", \"col9\": \"1\", \"col10\": \"8\", \"col11\": \"3\", \"col12\": \"0.5\", \"col13\": \"2.35\", \"col14\": \"0\", \"col15\": \"0.3\", \"col16\": \"14.15\", \"col17\": \"2.5\"}\n{\"col0\": \"1\", \"col1\": \"2020-01-01 00:55:11\", \"col2\": \"2020-01-01 01:12:03\", \"col3\": \"2\", \"col4\": \"2.40\", \"col5\": \"1\", \"col6\": \"N\", \"col7\": \"246\", \"col8\": \"79\", \"col9\": \"1\", \"col10\": \"12\", \"col11\": \"3\", \"col12\": \"0.5\", \"col13\": \"1.75\", \"col14\": \"0\", \"col15\": \"0.3\", \"col16\": \"17.55\", \"col17\": \"2.5\"}\n{\"col0\": \"1\", \"col1\": \"2020-01-01 00:37:15\", \"col2\": \"2020-01-01 00:51:41\", \"col3\": \"1\", \"col4\": \".80\", \"col5\": \"1\", \"col6\": \"N\", \"col7\": \"163\", \"col8\": \"161\", \"col9\": \"2\", \"col10\": \"9.5\", \"col11\": \"3\", \"col12\": \"0.5\", \"col13\": \"0\", \"col14\": \"0\", \"col15\": \"0.3\", \"col16\": \"13.3\", \"col17\": \"2.5\"}\n{\"col0\": \"1\", \"col1\": \"2020-01-01 00:56:27\", \"col2\": \"2020-01-01 01:21:44\", \"col3\": \"1\", \"col4\": \"3.30\", \"col5\": \"1\", \"col6\": \"N\", \"col7\": \"161\", \"col8\": \"144\", \"col9\": \"1\", \"col10\": \"17\", \"col11\": \"3\", \"col12\": \"0.5\", \"col13\": \"4.15\", \"col14\": \"0\", \"col15\": \"0.3\", \"col16\": \"24.95\", \"col17\": \"2.5\"}\n{\"col0\": \"2\", \"col1\": \"2020-01-01 00:21:54\", \"col2\": \"2020-01-01 00:27:31\", \"col3\": \"1\", \"col4\": \"1.07\", \"col5\": \"1\", \"col6\": \"N\", \"col7\": \"43\", \"col8\": \"239\", \"col9\": \"1\", \"col10\": \"6\", \"col11\": \"0.5\", \"col12\": \"0.5\", \"col13\": \"1.96\", \"col14\": \"0\", \"col15\": \"0.3\", \"col16\": \"11.76\", \"col17\": \"2.5\"}\n{\"col0\": \"2\", \"col1\": \"2020-01-01 00:38:01\", \"col2\": \"2020-01-01 01:15:21\", \"col3\": \"1\", \"col4\": \"7.76\", \"col5\": \"1\", \"col6\": \"N\", \"col7\": \"143\", \"col8\": \"25\", \"col9\": \"1\", \"col10\": \"28.5\", \"col11\": \"0.5\", \"col12\": \"0.5\", \"col13\": \"4.84\", \"col14\": \"0\", \"col15\": \"0.3\", \"col16\": \"37.14\", \"col17\": \"2.5\"}\n{\"col0\": \"1\", \"col1\": \"2020-01-01 00:15:35\", \"col2\": \"2020-01-01 00:27:06\", \"col3\": \"3\", \"col4\": \"1.60\", \"col5\": \"1\", \"col6\": \"N\", \"col7\": \"211\", \"col8\": \"234\", \"col9\": \"2\", \"col10\": \"9\", \"col11\": \"3\", \"col12\": \"0.5\", \"col13\": \"0\", \"col14\": \"0\", \"col15\": \"0.3\", \"col16\": \"12.8\", \"col17\": \"2.5\"}\n{\"col0\": \"1\", \"col1\": \"2020-01-01 00:41:20\", \"col2\": \"2020-01-01 00:44:22\", \"col3\": \"1\", \"col4\": \".50\", \"col5\": \"1\", \"col6\": \"Y\", \"col7\": \"234\", \"col8\": \"90\", \"col9\": \"1\", \"col10\": \"4\", \"col11\": \"3\", \"col12\": \"0.5\", \"col13\": \"1\", \"col14\": \"0\", \"col15\": \"0.3\", \"col16\": \"8.8\", \"col17\": \"2.5\"}\n{\"col0\": \"1\", \"col1\": \"2020-01-01 00:56:38\", \"col2\": \"2020-01-01 01:13:34\", \"col3\": \"1\", \"col4\": \"1.70\", \"col5\": \"1\", \"col6\": \"N\", \"col7\": \"246\", \"col8\": \"142\", \"col9\": \"2\", \"col10\": \"11.5\", \"col11\": \"3\", \"col12\": \"0.5\", \"col13\": \"0\", \"col14\": \"0\", \"col15\": \"0.3\", \"col16\": \"15.3\", \"col17\": \"2.5\"}\n{\"col0\": \"2\", \"col1\": \"2020-01-01 00:08:21\", \"col2\": \"2020-01-01 00:25:29\", \"col3\": \"1\", \"col4\": \"8.45\", \"col5\": \"1\", \"col6\": \"N\", \"col7\": \"138\", \"col8\": \"216\", \"col9\": \"2\", \"col10\": \"24.5\", \"col11\": \"0.5\", \"col12\": \"0.5\", \"col13\": \"0\", \"col14\": \"0\", \"col15\": \"0.3\", \"col16\": \"25.8\", \"col17\": \"0\"}\n",
					"output_type": "stream"
				}
			]
		},
		{
			"cell_type": "code",
			"source": "",
			"metadata": {},
			"execution_count": null,
			"outputs": []
		}
	]
}